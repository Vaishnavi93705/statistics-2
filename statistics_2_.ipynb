{
  "nbformat": 4,
  "nbformat_minor": 0,
  "metadata": {
    "colab": {
      "provenance": []
    },
    "kernelspec": {
      "name": "python3",
      "display_name": "Python 3"
    },
    "language_info": {
      "name": "python"
    }
  },
  "cells": [
    {
      "cell_type": "markdown",
      "source": [
        "Question 1: What is the difference between descriptive statistics and inferential statistics? Explain with examples.\n",
        "\n",
        "- Descriptive statistics :\n",
        "Descriptive statistics are used to summarize and describe the main features of a dataset. It deals with the collection, presentation, and characterization of a dataset.\n",
        "\n",
        "- Ex : Suppose you survey 100 students about their math test scores and calculate:\n",
        "\n",
        "Average score = 75 .\n",
        "Highest score = 98 .\n",
        "Standard deviation = 10\n",
        "\n",
        "Inferential Statistics:\n",
        "\n",
        "- Inferential statistics are used to make predictions or inferences about a population based on a sample of data.\n",
        "\n",
        "- Ex: You survey a sample of 100 students and find that the average score is 75. You then use inferential statistics to estimate:\n",
        "\n",
        " The average score of all students in the school\n",
        "Whether boys score significantly higher than girls (hypothesis testing)"
      ],
      "metadata": {
        "id": "nxi_ArvxwFCo"
      }
    },
    {
      "cell_type": "markdown",
      "source": [
        "Question 2: What are the types of random variables?\n",
        "\n",
        "- Random variables are quantities whose values are determined by the outcomes of a random phenomenon.\n",
        "\n",
        "- There are two main types of random variables:\n",
        "\n",
        "\n",
        "\n",
        "1 Discrete Random Variable\n",
        "\n",
        "- A discrete random variable can take on a countable number of distinct values. These values are often whole numbers.\n",
        "\n",
        "Ex : Number of students in a class\n",
        "\n",
        "\n",
        "\n",
        "2  Continuous Random Variable\n",
        "\n",
        "- A continuous random variable can take on an infinite number of values within a given range. These values are often measurements.\n",
        "\n",
        "EX: Height of students in a class"
      ],
      "metadata": {
        "id": "sDaWSrkHxDjW"
      }
    },
    {
      "cell_type": "markdown",
      "source": [
        "Question 3: Explain the difference between discrete and continuous distributions.\n",
        "\n",
        " - Discrete Distribution :\n",
        "\n",
        "     - A discrete distribution describes the probability of a discrete random variable, which takes on countable values (usually whole numbers).\n",
        "\n",
        "\n",
        "\n",
        "- Characteristics:\n",
        "\n",
        "     - The probabilities are assigned to specific individual values.\n",
        "\n",
        "    -  The sum of all probabilities equals 1.\n",
        "\n",
        "    - Represented using probability mass functions (PMF).\n",
        "\n",
        "\n",
        "\n",
        "- Examples:\n",
        "\n",
        "    - Binomial Distribution: Number of successes in a fixed number of trials (e.g., flipping a coin 10 times).\n",
        "\n",
        "    - Poisson Distribution: Number of events in a fixed interval (e.g., number of emails received per hour).\n",
        "\n",
        "- Example Values:\n",
        "\n",
        "\n",
        " 0, 1, 2, 3, ....\n",
        "\n",
        "\n",
        "\n",
        " - Continuous distributions:\n",
        "\n",
        "    - A continuous distribution describes the probability of a continuous random variable, which can take on any value within an interval.\n",
        "\n",
        "\n",
        "\n",
        "- Characteristics:\n",
        "\n",
        "   - Probabilities are described over intervals, not individual points.\n",
        "\n",
        "    - The probability of any exact value is zero (P(X = x) = 0).\n",
        "\n",
        "    - Represented using probability density functions (PDF).\n",
        "\n",
        "    - Total area under the curve of the PDF is 1.\n",
        "\n",
        "\n",
        "\n",
        "- Examples:\n",
        "\n",
        "  - Normal Distribution: Bell-shaped curve used in natural phenomena like height, IQ, etc.\n",
        "\n",
        "  - Exponential Distribution: Models time between events in a Poisson process.\n",
        "\n",
        "\n",
        "\n",
        "- Example Values:\n",
        " Any real number within a range (e.g., 2.1, 5.75, 6.003)"
      ],
      "metadata": {
        "id": "5YDi1Lf_xPPz"
      }
    },
    {
      "cell_type": "markdown",
      "source": [
        "Question 4: What is a binomial distribution, and how is it used in probability?\n",
        "\n",
        "- A binomial distribution is a discrete probability distribution that models the number of successes in a fixed number of independent trials of a binary (yes/no) experiment.\n",
        "\n",
        "Each trial has:\n",
        "\n",
        "Two possible outcomes: Success (e.g., heads) or Failure (e.g., tails)\n",
        "\n",
        "A constant probability of success (p) and failure (q = 1 - p)\n",
        "\n",
        "\n",
        "\n",
        "- Conditions for a Binomial Distribution:\n",
        "\n",
        "  - The experiment consists of n independent trials.\n",
        "\n",
        "   - Each trial results in only two outcomes: success or failure.\n",
        "\n",
        "    - The probability of success (p) is the same for each trial.\n",
        "\n",
        "  - You're interested in the number of successes (x) in those trials."
      ],
      "metadata": {
        "id": "VlsV7HN0yJlh"
      }
    },
    {
      "cell_type": "markdown",
      "source": [
        "Question 5: What is the standard normal distribution, and why is it important?\n",
        "\n",
        "- The standard normal distribution is a special case of the normal distribution. It is a continuous probability distribution with the following properties:\n",
        "\n",
        "Mean (μ) = 0\n",
        "\n",
        "Standard deviation (σ) = 1\n",
        "\n",
        "Symmetrical and bell-shaped curve\n",
        "\n",
        "Total area under the curve = 1\n",
        "\n",
        "It is denoted by the variable Z, so it's also called the Z-distribution.\n",
        "\n",
        "- Why Is the Standard Normal Distribution Important?\n",
        "\n",
        "Simplifies calculations\n",
        "\n",
        "Used in hypothesis testing\n",
        "\n",
        "Basis for inferential statistics\n",
        "\n",
        "Applies to many real-world variables\n",
        "\n",
        "Foundation for confidence intervals"
      ],
      "metadata": {
        "id": "Q9k1pliByeQn"
      }
    },
    {
      "cell_type": "markdown",
      "source": [
        "Question 6: What is the Central Limit Theorem (CLT), and why is it critical in statistics?\n",
        "\n",
        "- When you take a large enough sample size from any population  the sampling distribution of the sample mean will approximate a normal distribution.\n",
        "\n",
        "- No matter how the original data looks (it can be skewed or non-normal),\n",
        "\n",
        "- If you take many random samples (with size n ≥ 30 is common),\n",
        "\n",
        "And calculate the mean of each sample,\n",
        "\n",
        "- The distribution of those sample means will look approximately normal.\n",
        "\n",
        "\n",
        "\n",
        "Why is it critical in statistics :\n",
        "\n",
        " - Use of the normal distribution\n",
        "\n",
        " - Supports confidence intervals\n",
        "\n",
        "- Basis for hypothesis testing\n",
        "\n",
        "- Works for any population\n",
        "\n",
        "- Makes analysis easier"
      ],
      "metadata": {
        "id": "iODk6ERPyrcf"
      }
    },
    {
      "cell_type": "markdown",
      "source": [
        "Question 7: What is the significance of confidence intervals in statistical analysis?\n",
        "- A confidence interval is a range of values used to estimate an unknown population parameter (like a population mean or proportion), based on sample data.\n",
        "\n",
        "- It comes with a confidence level (like 90%, 95%, or 99%) that tells us how sure we are that the interval contains the true population value.\n",
        "\n",
        " Significance of Confidence Intervals in Statistical Analysis:\n",
        "\n",
        "- Provides a range, not just a point\n",
        "Instead of giving just one number (like a sample mean), a confidence interval gives a range where the true value is likely to lie. This gives more information and better insight.\n",
        "\n",
        "- Shows the reliability of an estimate\n",
        "The wider the interval, the less precise the estimate. A narrower interval means a more reliable estimate.\n",
        "\n",
        "- Accounts for sample variability\n",
        "Since we usually work with samples, not entire populations, confidence intervals help account for the uncertainty due to random sampling.\n",
        "\n",
        "- Helps in hypothesis testing\n",
        "Confidence intervals can be used to test hypotheses. If a hypothesized value falls outside the interval, it is likely not true.\n",
        "\n",
        "- Useful in decision-making\n",
        "Researchers, policymakers, and businesses use confidence intervals to make informed decisions, knowing the range of possible values for a statistic."
      ],
      "metadata": {
        "id": "fEA3bf-6z0mi"
      }
    },
    {
      "cell_type": "markdown",
      "source": [
        "Question 8: What is the concept of expected value in a probability distribution?\n",
        "\n",
        "- The expected value (also called the mean or expectation) of a probability distribution is the long-run average outcome of a random variable after many repetitions of the experiment.\n",
        "\n",
        "Formula :  \n",
        "\n",
        "\n",
        "\n",
        "E(X)=∑[xi ⋅P(xi )]\n",
        "\n",
        "- Where:\n",
        "\n",
        "E(X)E(X)E(X) = expected value of the random variable XXX\n",
        "\n",
        "xix_ixi  = possible values of XXX\n",
        "\n",
        "P(xi)P(x_i)P(xi ) = probability of each value\n",
        "\n",
        "\n",
        "\n",
        "\n",
        "\n",
        "\n",
        "\n",
        "          \n",
        "\n",
        "\n",
        "\n",
        "\n",
        "\n",
        ""
      ],
      "metadata": {
        "id": "uPBkQpBqzI8T"
      }
    },
    {
      "cell_type": "markdown",
      "source": [
        "Question 9: Write a Python program to generate 1000 random numbers from a normal\n",
        "distribution with mean = 50 and standard deviation = 5. Compute its mean and standard\n",
        "deviation using NumPy, and draw a histogram to visualize the distribution.\n",
        "(Include your Python code and output in the code box below.)"
      ],
      "metadata": {
        "id": "zid8SxFb0i-s"
      }
    },
    {
      "cell_type": "code",
      "source": [
        "import numpy as np\n",
        "import matplotlib.pyplot as plt\n",
        "\n",
        "np.random.seed(0)\n",
        "\n",
        "data = np.random.normal(loc=50, scale=5, size=1000)\n",
        "\n",
        "mean = np.mean(data)\n",
        "std_dev = np.std(data)\n",
        "\n",
        "print(f\"Mean of the data: {mean:.2f}\")\n",
        "print(f\"Standard Deviation of the data: {std_dev:.2f}\")\n",
        "\n",
        "plt.figure(figsize=(8, 5))\n",
        "plt.hist(data, bins=30, color='skyblue', edgecolor='black')\n",
        "plt.title('Histogram of Normally Distributed Data (mean=50, std=5)')\n",
        "plt.xlabel('Value')\n",
        "plt.ylabel('Frequency')\n",
        "plt.grid(True)\n",
        "plt.show()"
      ],
      "metadata": {
        "colab": {
          "base_uri": "https://localhost:8080/",
          "height": 522
        },
        "id": "Kl7aZmtV1EgQ",
        "outputId": "f3a0c5e0-9633-4823-e7b1-39ba3fc545a7"
      },
      "execution_count": 4,
      "outputs": [
        {
          "output_type": "stream",
          "name": "stdout",
          "text": [
            "Mean of the data: 49.77\n",
            "Standard Deviation of the data: 4.94\n"
          ]
        },
        {
          "output_type": "display_data",
          "data": {
            "text/plain": [
              "<Figure size 800x500 with 1 Axes>"
            ],
            "image/png": "[encoded data removed]"
          },
          "metadata": {}
        }
      ]
    },
    {
      "cell_type": "markdown",
      "source": [
        "Question 10: You are working as a data analyst for a retail company. The company has\n",
        "collected daily sales data for 2 years and wants you to identify the overall sales trend.\n",
        "daily_sales = [220, 245, 210, 265, 230, 250, 260, 275, 240, 255,\n",
        " 235, 260, 245, 250, 225, 270, 265, 255, 250, 260]\n",
        "● Explain how you would apply the Central Limit Theorem to estimate the average sales\n",
        "with a 95% confidence interval.\n",
        "● Write the Python code to compute the mean sales and its confidence interval.\n",
        "(Include your Python code and output in the code box below.)"
      ],
      "metadata": {
        "id": "pGEbzj1B1xzU"
      }
    },
    {
      "cell_type": "code",
      "source": [
        "import numpy as np\n",
        "import scipy.stats as stats\n",
        "\n",
        "# Daily sales data\n",
        "daily_sales = [220, 245, 210, 265, 230, 250, 260, 275, 240, 255,\n",
        "               235, 260, 245, 250, 225, 270, 265, 255, 250, 260]\n",
        "\n",
        "# Convert to NumPy array\n",
        "data = np.array(daily_sales)\n",
        "\n",
        "# Sample statistics\n",
        "n = len(data)\n",
        "mean = np.mean(data)\n",
        "std_dev = np.std(data, ddof=1)  # Sample standard deviation\n",
        "\n",
        "# Confidence level\n",
        "confidence = 0.95\n",
        "alpha = 1 - confidence\n",
        "\n",
        "# t-critical value\n",
        "t_critical = stats.t.ppf(1 - alpha/2, df=n-1)\n",
        "\n",
        "# Margin of error\n",
        "margin_of_error = t_critical * (std_dev / np.sqrt(n))\n",
        "\n",
        "# Confidence interval\n",
        "lower_bound = mean - margin_of_error\n",
        "upper_bound = mean + margin_of_error\n",
        "\n",
        "# Print results\n",
        "print(f\"Sample Mean: {mean:.2f}\")\n",
        "print(f\"Sample Standard Deviation: {std_dev:.2f}\")\n",
        "print(f\"95% Confidence Interval: ({lower_bound:.2f}, {upper_bound:.2f})\")\n"
      ],
      "metadata": {
        "colab": {
          "base_uri": "https://localhost:8080/"
        },
        "id": "7-LltXn22NoC",
        "outputId": "7f0c6ee2-bfdf-436a-fc7b-c3ef5c2adfe0"
      },
      "execution_count": 5,
      "outputs": [
        {
          "output_type": "stream",
          "name": "stdout",
          "text": [
            "Sample Mean: 248.25\n",
            "Sample Standard Deviation: 17.27\n",
            "95% Confidence Interval: (240.17, 256.33)\n"
          ]
        }
      ]
    }
  ]
}